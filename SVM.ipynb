{
 "cells": [
  {
   "cell_type": "code",
   "execution_count": null,
   "metadata": {},
   "outputs": [],
   "source": [
    "import numpy as np\n",
    "from sklearn.model_selection import train_test_split\n",
    "# ^for older versions of sklearn, replace model_selection with cross_validation\n",
    "from sklearn.svm import SVC\n",
    "from sklearn.metrics import accuracy_score\n",
    "\n",
    "# initialize data:\n",
    "X = np.array([[1,1,1],\n",
    "\t\t\t [1,1,0],\n",
    "\t\t\t [1,0,0],\n",
    "\t\t\t [1,0,1],\n",
    "\t\t\t [0,0,1],\n",
    "\t\t\t [0,0,0],\n",
    "\t\t\t [0,1,0],\n",
    "\t\t\t [0,1,1]])\n",
    "\n",
    "y = np.array([1,1,1,1,-1,-1,-1,1])\n",
    "\n",
    "# split data into training and testing sets:\n",
    "X_train, X_test, y_train, y_test = train_test_split(X, y, \n",
    "\t\t\t\t\t\t\t\t   test_size = 0.2, random_state = 1234)\n",
    "# ^test_size is the fraction of data to be reserved for testing,\n",
    "# ^random_state is used to make predictions repeatable\n",
    "\n",
    "# initialize and train SVM:\n",
    "svm = SVC(kernel = 'linear', C=1, random_state = 0)\n",
    "svm.fit(X_train, y_train) # training on the training data\n",
    "\n",
    "# make and show predictions on the test data:\n",
    "y_pred = svm.predict(X_test)\n",
    "print('Input for testing:')\n",
    "print(X_test)\n",
    "print('Predicted values:')\n",
    "print(y_pred)\n",
    "\n",
    "# show error and accuracy:\n",
    "print('Misclassified samples: %d'%(y_test!=y_pred).sum())\n",
    "print('Accuracy:%.2f'%accuracy_score(y_test, y_pred))"
   ]
  }
 ],
 "metadata": {
  "kernelspec": {
   "display_name": "Python 3",
   "language": "python",
   "name": "python3"
  },
  "language_info": {
   "codemirror_mode": {
    "name": "ipython",
    "version": 3
   },
   "file_extension": ".py",
   "mimetype": "text/x-python",
   "name": "python",
   "nbconvert_exporter": "python",
   "pygments_lexer": "ipython3",
   "version": "3.6.6"
  }
 },
 "nbformat": 4,
 "nbformat_minor": 2
}
