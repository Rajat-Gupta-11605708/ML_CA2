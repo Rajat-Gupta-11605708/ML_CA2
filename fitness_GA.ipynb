{
 "cells": [
  {
   "cell_type": "code",
   "execution_count": null,
   "metadata": {},
   "outputs": [],
   "source": [
    "import numpy as np\n",
    "\n",
    "def fitness(population, x):\n",
    "\treturn np.dot(population, x.T)\n",
    "\n",
    "x = np.array([-2, 2, 1, 3])\n",
    "ngenes = 4\t# no. of genes in each chromosom\n",
    "npop = 8\t# no. chromosomes in population\n",
    "\n",
    "# set random seed for reproducible results\n",
    "np.random.seed(0)\n",
    "\n",
    "# generate random population:\n",
    "population = np.random.uniform(-5, 5, (npop, ngenes))\n",
    "print('Random Population:')\n",
    "\n",
    "# following line prints out the whole population matrix:\n",
    "[[print('%.3f'%(i), end='\\t') for i in j] and print() for j in population]\n",
    "\n",
    "# calculate fitess:\n",
    "f = fitness(population, x)\n",
    "print('\\nFitnesses:')\n",
    "[print('%.3f'%(i), end='\\t') for i in f]\n",
    "print()"
   ]
  }
 ],
 "metadata": {
  "kernelspec": {
   "display_name": "Python 3",
   "language": "python",
   "name": "python3"
  },
  "language_info": {
   "codemirror_mode": {
    "name": "ipython",
    "version": 3
   },
   "file_extension": ".py",
   "mimetype": "text/x-python",
   "name": "python",
   "nbconvert_exporter": "python",
   "pygments_lexer": "ipython3",
   "version": "3.6.6"
  }
 },
 "nbformat": 4,
 "nbformat_minor": 2
}
