{
 "cells": [
  {
   "cell_type": "code",
   "execution_count": 7,
   "metadata": {},
   "outputs": [
    {
     "name": "stdout",
     "output_type": "stream",
     "text": [
      "Inputs :  [[0 0 0]\n",
      " [0 0 1]\n",
      " [0 1 0]\n",
      " [0 1 1]\n",
      " [1 0 0]\n",
      " [1 0 1]\n",
      " [1 1 0]\n",
      " [1 1 1]]\n",
      "Outputs :  [1 1 1 1 1 1 1 1]\n",
      "Output for [1,1,1] is :  1\n",
      "Output for [0,0,0] is :  1\n"
     ]
    }
   ],
   "source": [
    "from numpy import *\n",
    "\n",
    "class Perceptron(object):\n",
    "\n",
    "    def __init__(self, eta=0.051, n_iter=10):\n",
    "        self.eta = eta              #learning rate between 0.0 to 1.0\n",
    "        self.n_iter = n_iter        #Passes over the training dataset\n",
    "\n",
    "    def fit(self, x, y):            #training for x, y with current data set\n",
    "        self.w_ = zeros(1+x.shape[1])\n",
    "\n",
    "        for _ in range(self.n_iter):\n",
    "            for xi, target in zip(x,y):     #takes iteration value and returns Iterator\n",
    "                error = target-self.predict(xi)\n",
    "                if error!=0:\n",
    "                    update = self.eta * (self.predict(xi))\n",
    "                    self.w_[1:] += update*xi\n",
    "                    self.w_[0] += update\n",
    "        return self\n",
    "\n",
    "    def net_input(self, x):\n",
    "        \"\"\"Calculate net steps\"\"\"\n",
    "        # Calculate net input\n",
    "        return dot(x, self.w_[1:]+self.w_[0])\n",
    "\n",
    "    def predict(self, x):\n",
    "        \"\"\"Return Class label after unit step\"\"\"\n",
    "        return where(self.net_input(x) >= 0.0, 1, -1)       #ternary operator\n",
    "\n",
    "x = array([[0,0,0],[0,0,1],[0,1,0],[0,1,1],[1,0,0],[1,0,1],[1,1,0],[1,1,1]])\n",
    "print(\"Inputs : \",x)\n",
    "\n",
    "y = array([-1,-1,-1,-1,1,1,1,1])\n",
    "\n",
    "ppn = Perceptron(eta=0.1, n_iter=10)\n",
    "ppn.fit(x,y)\n",
    "print('Outputs : ',ppn.predict(x))\n",
    "print('Output for [1,1,1] is : ', ppn.predict([1,1,1]))\n",
    "print('Output for [0,0,0] is : ', ppn.predict([0,0,0]))"
   ]
  },
  {
   "cell_type": "code",
   "execution_count": null,
   "metadata": {},
   "outputs": [],
   "source": []
  }
 ],
 "metadata": {
  "kernelspec": {
   "display_name": "Python 3",
   "language": "python",
   "name": "python3"
  },
  "language_info": {
   "codemirror_mode": {
    "name": "ipython",
    "version": 3
   },
   "file_extension": ".py",
   "mimetype": "text/x-python",
   "name": "python",
   "nbconvert_exporter": "python",
   "pygments_lexer": "ipython3",
   "version": "3.6.6"
  }
 },
 "nbformat": 4,
 "nbformat_minor": 2
}
