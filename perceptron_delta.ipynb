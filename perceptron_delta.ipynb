{
 "cells": [
  {
   "cell_type": "code",
   "execution_count": 3,
   "metadata": {},
   "outputs": [
    {
     "name": "stdout",
     "output_type": "stream",
     "text": [
      "0.5\n"
     ]
    },
    {
     "ename": "ValueError",
     "evalue": "invalid literal for int() with base 10: '0.5'",
     "output_type": "error",
     "traceback": [
      "\u001b[0;31m---------------------------------------------------------------------------\u001b[0m",
      "\u001b[0;31mValueError\u001b[0m                                Traceback (most recent call last)",
      "\u001b[0;32m<ipython-input-3-ef78e1d7929b>\u001b[0m in \u001b[0;36m<module>\u001b[0;34m()\u001b[0m\n\u001b[1;32m     53\u001b[0m \u001b[0;34m\u001b[0m\u001b[0m\n\u001b[1;32m     54\u001b[0m \u001b[0;34m\u001b[0m\u001b[0m\n\u001b[0;32m---> 55\u001b[0;31m \u001b[0mtrainer\u001b[0m \u001b[0;34m=\u001b[0m \u001b[0mTrainer\u001b[0m\u001b[0;34m(\u001b[0m\u001b[0mint\u001b[0m\u001b[0;34m(\u001b[0m\u001b[0minput\u001b[0m\u001b[0;34m(\u001b[0m\u001b[0;34m)\u001b[0m\u001b[0;34m)\u001b[0m\u001b[0;34m)\u001b[0m\u001b[0;34m\u001b[0m\u001b[0m\n\u001b[0m\u001b[1;32m     56\u001b[0m \u001b[0mp\u001b[0m \u001b[0;34m=\u001b[0m \u001b[0mtrainer\u001b[0m\u001b[0;34m.\u001b[0m\u001b[0mtrain\u001b[0m\u001b[0;34m(\u001b[0m\u001b[0;34m)\u001b[0m\u001b[0;34m\u001b[0m\u001b[0m\n\u001b[1;32m     57\u001b[0m \u001b[0;34m\u001b[0m\u001b[0m\n",
      "\u001b[0;31mValueError\u001b[0m: invalid literal for int() with base 10: '0.5'"
     ]
    }
   ],
   "source": [
    "import numpy as np\n",
    "import random\n",
    "\n",
    "class Perceptron:\n",
    "\tdef __init__(self, learn_speed, num_weights):\n",
    "\t\tself.speed = learn_speed\n",
    "\t\tself.weights = []\n",
    "\t\t\n",
    "\t\t# assign random weights between -1 and 1:\n",
    "\t\tfor x in range(0, num_weights):\n",
    "\t\t\tself.weights.append(random.random()*2-1)\n",
    "\t\t# random.random() returns a random between 0 and 1\n",
    "\tdef activate(self, num):\n",
    "\t\t# turn a sum over 0 into 1, and below 0 into -1\n",
    "\t\tif num >= 0:\n",
    "\t\t\treturn 1\n",
    "\t\treturn -1\n",
    "    \n",
    "\tdef feed_forward(self, inputs):\n",
    "\t\tsum = 0\n",
    "\t\t# multiply inputs by weights and sum them\n",
    "\t\tsum = np.dot(inputs, self.weights)\n",
    "\t\treturn self.activate(sum)\n",
    "\n",
    "\tdef adjust_weights(self, inputs, desired_output):\n",
    "\t\tguess = self.feed_forward(inputs)\n",
    "\t\terror = desired_output - guess\n",
    "\n",
    "\t\tfor x in range(0, len(self.weights)):\n",
    "\t\t\tself.weights[x] += error*inputs[x]*self.speed\n",
    "\n",
    "class Trainer:\n",
    "\tdef __init__(self, iters = 1000):\n",
    "\t\tself.perceptron = Perceptron(0.01, 3)\n",
    "\t\tself.iters = iters\n",
    "\t\n",
    "\tdef f(self, x):\n",
    "\t\treturn x # line: f(x) = 0.5x + 10\n",
    "\t\n",
    "\tdef train(self):\n",
    "\t\tfor x in range(0, self.iters):\n",
    "\t\t\tx_coord = random.random()*500 - 250\n",
    "\t\t\ty_coord = random.random()*500 - 250\n",
    "\t\t\tline_y = self.f(x_coord)\n",
    "\n",
    "\t\t\tif y_coord > line_y:\t# above line\n",
    "\t\t\t\tanswer = 1\n",
    "\t\t\t\tself.perceptron.adjust_weights([x_coord, y_coord, 1], answer)\n",
    "\t\t\telse:\t\t\t\t\t# below line\n",
    "\t\t\t\tanswer = -1\n",
    "\t\t\t\tself.perceptron.adjust_weights([x_coord, y_coord, 1], answer)\n",
    "\t\treturn self.perceptron\t\t# return trained perceptron\n",
    "\n",
    "\n",
    "trainer = Trainer(int(input()))\n",
    "p = trainer.train()\n",
    "\n",
    "print(\"(-7, 9):\",p.feed_forward([-7, 9, 1]))\n",
    "print(\"(3, 3):\",p.feed_forward([3, 3, 1]))"
   ]
  },
  {
   "cell_type": "code",
   "execution_count": null,
   "metadata": {},
   "outputs": [],
   "source": []
  }
 ],
 "metadata": {
  "kernelspec": {
   "display_name": "Python 3",
   "language": "python",
   "name": "python3"
  },
  "language_info": {
   "codemirror_mode": {
    "name": "ipython",
    "version": 3
   },
   "file_extension": ".py",
   "mimetype": "text/x-python",
   "name": "python",
   "nbconvert_exporter": "python",
   "pygments_lexer": "ipython3",
   "version": "3.6.6"
  }
 },
 "nbformat": 4,
 "nbformat_minor": 2
}
