{
 "cells": [
  {
   "cell_type": "code",
   "execution_count": null,
   "metadata": {},
   "outputs": [],
   "source": [
    "import numpy as np\n",
    "import skfuzzy as fuzz\n",
    "from skfuzzy import control as ctrl\n",
    "\n",
    "# create antecedents(inputs) and consequents(outputs):\n",
    "load = ctrl.Antecedent(np.arange(0, 11, 1), 'load')\n",
    "waterlvl = ctrl.Antecedent(np.arange(0, 11, 1), 'waterlvl')\n",
    "time = ctrl.Consequent(np.arange(0, 61, 1), 'time')\n",
    "\n",
    "# automatically assign membership functions:\n",
    "load.automf(5)\n",
    "waterlvl.automf(5)\n",
    "time.automf(5)\n",
    "\n",
    "waterlvl['average'].view()\n",
    "input('Press <return> to continue...')\n",
    "\n",
    "# create rules:\n",
    "rules = [\n",
    "\tctrl.Rule(load['poor'] | waterlvl['poor'], time['poor']),\n",
    "\tctrl.Rule(load['mediocre'] | waterlvl['mediocre'], time['mediocre']),\n",
    "\tctrl.Rule(load['average'] | waterlvl['average'], time['average']),\n",
    "\tctrl.Rule(load['decent'] | waterlvl['decent'], time['decent']),\n",
    "\tctrl.Rule(load['good'] | waterlvl['good'], time['good']),\n",
    "]\n",
    "\n",
    "# create control system with rules:\n",
    "csystem = ctrl.ControlSystem(rules)\n",
    "\n",
    "# create simulation with this control system:\n",
    "simulation = ctrl.ControlSystemSimulation(csystem)\n",
    "\n",
    "# pass inputs to simulation\n",
    "simulation.input['load'] = float(input('Enter load: '))\n",
    "simulation.input['waterlvl'] = float(input('Enter water level: '))\n",
    "\n",
    "# compute/run simulation:\n",
    "simulation.compute()\n",
    "\n",
    "# show results\n",
    "print('Estimated time:', simulation.output['time'], 'minutes')\n",
    "time.view(sim=simulation)\n",
    "input('Press <return> to continue...')"
   ]
  }
 ],
 "metadata": {
  "kernelspec": {
   "display_name": "Python 3",
   "language": "python",
   "name": "python3"
  },
  "language_info": {
   "codemirror_mode": {
    "name": "ipython",
    "version": 3
   },
   "file_extension": ".py",
   "mimetype": "text/x-python",
   "name": "python",
   "nbconvert_exporter": "python",
   "pygments_lexer": "ipython3",
   "version": "3.6.6"
  }
 },
 "nbformat": 4,
 "nbformat_minor": 2
}
