{
 "cells": [
  {
   "cell_type": "code",
   "execution_count": null,
   "metadata": {},
   "outputs": [],
   "source": [
    "import numpy as np\n",
    "\n",
    "def fitness(population, x):\n",
    "\treturn np.dot(population, x.T)\n",
    "\n",
    "def select_mating_pool(population, x):\n",
    "\tf = fitness(population, x)\n",
    "\tpool_size = population.shape[0]//2\n",
    "\tpool = np.empty((pool_size, population.shape[1]))\n",
    "\n",
    "\t# calculate cumulative fitness:\n",
    "\tfor i in range(1, len(f)):\n",
    "\t\tf[i] += f[i-1]\n",
    "\t\n",
    "\t# create pool:\n",
    "\tfor i in range(pool_size):\n",
    "\t\t# chance of being selected is proportional to fitness\n",
    "\t\tr = np.random.random()*f[-1]\n",
    "\t\tfor j in range(len(f)):\n",
    "\t\t\tif f[j] >= r:\n",
    "\t\t\t\tpool[i, :] = population[j, :]\n",
    "\t\t\t\tbreak\n",
    "\treturn pool\n",
    "\t\n",
    "def crossover(population, n_offspring, x):\n",
    "\toffsprings = np.empty((n_offspring, population.shape[1]))\n",
    "\tmating_pool = select_mating_pool(population, x)\n",
    "\tfor i in range(n_offspring):\n",
    "\t\tparent_a = mating_pool[np.random.randint(0, mating_pool.shape[0])]\n",
    "\t\tparent_b = mating_pool[np.random.randint(0, mating_pool.shape[0])]\n",
    "\t\tcrossover_point = np.random.randint(1, mating_pool.shape[1])\n",
    "\t\toffsprings[i, 0:crossover_point] = parent_a[0:crossover_point]\n",
    "\t\toffsprings[i, crossover_point:] = parent_b[crossover_point:]\n",
    "\treturn offsprings\n",
    "\n",
    "def mutate(offsprings):\n",
    "\tfor i in range(offsprings.shape[0]):\n",
    "\t\tto_change = np.random.randint(0, offsprings.shape[1])\n",
    "\t\tm = np.random.random()*2-1\n",
    "\t\toffsprings[i, to_change] += m\n",
    "\t\t\n",
    "x = np.array([1, 2, -3, 4, -5, 6])\n",
    "np.random.seed(1)\n",
    "nchroms = 8\n",
    "ngenes = 6\n",
    "n_offsprings = 4\n",
    "population = np.random.uniform(-5, 5, (nchroms, ngenes))\n",
    "print('Original random population:')\n",
    "print(population)\n",
    "print('\\nOffsprings after crossover')\n",
    "offsprings = crossover(population, n_offsprings, x)\n",
    "print(offsprings)\n",
    "print('\\nOffsprings after mutation')\n",
    "mutate(offsprings)\n",
    "print(offsprings)\n"
   ]
  }
 ],
 "metadata": {
  "kernelspec": {
   "display_name": "Python 3",
   "language": "python",
   "name": "python3"
  },
  "language_info": {
   "codemirror_mode": {
    "name": "ipython",
    "version": 3
   },
   "file_extension": ".py",
   "mimetype": "text/x-python",
   "name": "python",
   "nbconvert_exporter": "python",
   "pygments_lexer": "ipython3",
   "version": "3.6.6"
  }
 },
 "nbformat": 4,
 "nbformat_minor": 2
}
