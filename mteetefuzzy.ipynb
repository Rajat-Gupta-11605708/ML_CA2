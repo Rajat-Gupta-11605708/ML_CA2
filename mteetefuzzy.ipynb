{
 "cells": [
  {
   "cell_type": "code",
   "execution_count": 1,
   "metadata": {},
   "outputs": [
    {
     "ename": "ModuleNotFoundError",
     "evalue": "No module named 'skfuzzy'",
     "output_type": "error",
     "traceback": [
      "\u001b[0;31m---------------------------------------------------------------------------\u001b[0m",
      "\u001b[0;31mModuleNotFoundError\u001b[0m                       Traceback (most recent call last)",
      "\u001b[0;32m<ipython-input-1-a077dd76d350>\u001b[0m in \u001b[0;36m<module>\u001b[0;34m()\u001b[0m\n\u001b[1;32m      1\u001b[0m \u001b[0;32mimport\u001b[0m \u001b[0mnumpy\u001b[0m \u001b[0;32mas\u001b[0m \u001b[0mnp\u001b[0m\u001b[0;34m\u001b[0m\u001b[0m\n\u001b[0;32m----> 2\u001b[0;31m \u001b[0;32mimport\u001b[0m \u001b[0mskfuzzy\u001b[0m \u001b[0;32mas\u001b[0m \u001b[0mfuzz\u001b[0m\u001b[0;34m\u001b[0m\u001b[0m\n\u001b[0m\u001b[1;32m      3\u001b[0m \u001b[0;32mfrom\u001b[0m \u001b[0mskfuzzy\u001b[0m \u001b[0;32mimport\u001b[0m \u001b[0mcontrol\u001b[0m \u001b[0;32mas\u001b[0m \u001b[0mctrl\u001b[0m\u001b[0;34m\u001b[0m\u001b[0m\n\u001b[1;32m      4\u001b[0m \u001b[0;34m\u001b[0m\u001b[0m\n\u001b[1;32m      5\u001b[0m \u001b[0;31m# create antecedents(inputs) and consequents(outputs):\u001b[0m\u001b[0;34m\u001b[0m\u001b[0;34m\u001b[0m\u001b[0m\n",
      "\u001b[0;31mModuleNotFoundError\u001b[0m: No module named 'skfuzzy'"
     ]
    }
   ],
   "source": [
    "import numpy as np\n",
    "import skfuzzy as fuzz\n",
    "from skfuzzy import control as ctrl\n",
    "\n",
    "# create antecedents(inputs) and consequents(outputs):\n",
    "mte = ctrl.Antecedent(np.arange(0, 31, 1), 'mte')\n",
    "ete = ctrl.Antecedent(np.arange(0, 71, 1), 'ete')\n",
    "cgpa = ctrl.Consequent(np.arange(0, 11, 1), 'cgpa')\n",
    "\n",
    "# automatically assign membership functions:\n",
    "mte.automf(5)\n",
    "ete.automf(5)\n",
    "cgpa.automf(5)\n",
    "\n",
    "ete['average'].view()\n",
    "input('Press <return> to continue...')\n",
    "\n",
    "# create rules:\n",
    "rules = [\n",
    "\tctrl.Rule(mte['poor'] | ete['poor'], cgpa['poor']),\n",
    "\tctrl.Rule(mte['mediocre'] | ete['mediocre'], cgpa['mediocre']),\n",
    "\tctrl.Rule(mte['average'] | ete['average'], cgpa['average']),\n",
    "\tctrl.Rule(mte['decent'] | ete['decent'], cgpa['decent']),\n",
    "\tctrl.Rule(mte['good'] | ete['good'], cgpa['good']),\n",
    "]\n",
    "\n",
    "# create control system with rules:\n",
    "csystem = ctrl.ControlSystem(rules)\n",
    "\n",
    "# create simulation with this control system:\n",
    "simulation = ctrl.ControlSystemSimulation(csystem)\n",
    "\n",
    "# pass inputs to simulation\n",
    "simulation.input['mte'] = float(input('Enter mte: '))\n",
    "simulation.input['ete'] = float(input('Enter ete: '))\n",
    "\n",
    "# compute/run simulation:\n",
    "simulation.compute()\n",
    "\n",
    "# show results\n",
    "print('Estimated CGPA:', simulation.output['cgpa'])\n",
    "cgpa.view(sim=simulation)\n",
    "input('Press <return> to continue...')"
   ]
  },
  {
   "cell_type": "code",
   "execution_count": null,
   "metadata": {},
   "outputs": [],
   "source": []
  }
 ],
 "metadata": {
  "kernelspec": {
   "display_name": "Python 3",
   "language": "python",
   "name": "python3"
  },
  "language_info": {
   "codemirror_mode": {
    "name": "ipython",
    "version": 3
   },
   "file_extension": ".py",
   "mimetype": "text/x-python",
   "name": "python",
   "nbconvert_exporter": "python",
   "pygments_lexer": "ipython3",
   "version": "3.6.6"
  }
 },
 "nbformat": 4,
 "nbformat_minor": 2
}
